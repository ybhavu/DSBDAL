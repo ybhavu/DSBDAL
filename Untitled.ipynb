{
 "cells": [
  {
   "cell_type": "code",
   "execution_count": 4,
   "id": "0475c75f",
   "metadata": {},
   "outputs": [],
   "source": [
    "import nltk\n",
    "from nltk.corpus import stopwords\n",
    "from nltk.tokenize import word_tokenize\n",
    "from nltk.stem import PorterStemmer, WordNetLemmatizer\n",
    "from nltk.tag import pos_tag\n",
    "from sklearn.feature_extraction.text import TfidfVectorizer\n",
    "import pandas as pd"
   ]
  },
  {
   "cell_type": "code",
   "execution_count": 5,
   "id": "a31bc548",
   "metadata": {},
   "outputs": [
    {
     "data": {
      "text/plain": [
       "['This',\n",
       " 'is',\n",
       " 'a',\n",
       " 'sample',\n",
       " 'document',\n",
       " '%',\n",
       " 'has',\n",
       " 'computer',\n",
       " 'and',\n",
       " 'caring',\n",
       " 'playing',\n",
       " 'cards',\n",
       " '.']"
      ]
     },
     "execution_count": 5,
     "metadata": {},
     "output_type": "execute_result"
    }
   ],
   "source": [
    "document = \"This is a sample document % has computer and caring playing cards.\"\n",
    "tokens = word_tokenize(document)\n",
    "tokens"
   ]
  },
  {
   "cell_type": "code",
   "execution_count": 7,
   "id": "54df3bde",
   "metadata": {},
   "outputs": [
    {
     "data": {
      "text/plain": [
       "['sample', 'document', 'computer', 'caring', 'playing', 'cards']"
      ]
     },
     "execution_count": 7,
     "metadata": {},
     "output_type": "execute_result"
    }
   ],
   "source": [
    "import string\n",
    "stop_words = set(stopwords.words('english'))\n",
    "\n",
    "filtered_tokens = [token for token in tokens if token.lower() not in stop_words and token.lower() not in string.punctuation]\n",
    "filtered_tokens"
   ]
  },
  {
   "cell_type": "code",
   "execution_count": 9,
   "id": "44dd03f6",
   "metadata": {},
   "outputs": [
    {
     "data": {
      "text/plain": [
       "[('sample', 'NN'),\n",
       " ('document', 'NN'),\n",
       " ('computer', 'NN'),\n",
       " ('caring', 'VBG'),\n",
       " ('playing', 'NN'),\n",
       " ('cards', 'NNS')]"
      ]
     },
     "execution_count": 9,
     "metadata": {},
     "output_type": "execute_result"
    }
   ],
   "source": [
    "pos_tags = pos_tag(filtered_tokens)\n",
    "pos_tags"
   ]
  },
  {
   "cell_type": "code",
   "execution_count": 10,
   "id": "6a6e1534",
   "metadata": {},
   "outputs": [
    {
     "data": {
      "text/plain": [
       "['sampl', 'document', 'comput', 'care', 'play', 'card']"
      ]
     },
     "execution_count": 10,
     "metadata": {},
     "output_type": "execute_result"
    }
   ],
   "source": [
    "stemmer = PorterStemmer()\n",
    "stemmed_tokens = [stemmer.stem(token) for token in filtered_tokens]\n",
    "stemmed_tokens"
   ]
  },
  {
   "cell_type": "code",
   "execution_count": 13,
   "id": "4bf63b32",
   "metadata": {},
   "outputs": [
    {
     "data": {
      "text/plain": [
       "['sample', 'document', 'computer', 'caring', 'playing', 'card']"
      ]
     },
     "execution_count": 13,
     "metadata": {},
     "output_type": "execute_result"
    }
   ],
   "source": [
    "lemm = WordNetLemmatizer()\n",
    "lemmed = [lemm.lemmatize(token) for token in filtered_tokens]\n",
    "lemmed"
   ]
  },
  {
   "cell_type": "code",
   "execution_count": 14,
   "id": "060c387d",
   "metadata": {},
   "outputs": [
    {
     "data": {
      "text/plain": [
       "'sample document computer caring playing card'"
      ]
     },
     "execution_count": 14,
     "metadata": {},
     "output_type": "execute_result"
    }
   ],
   "source": [
    "processed = ' '.join(lemmed)\n",
    "processed"
   ]
  },
  {
   "cell_type": "code",
   "execution_count": 17,
   "id": "e2abfa0f",
   "metadata": {},
   "outputs": [
    {
     "data": {
      "text/plain": [
       "array([[0.40824829, 0.40824829, 0.40824829, 0.40824829, 0.40824829,\n",
       "        0.40824829]])"
      ]
     },
     "execution_count": 17,
     "metadata": {},
     "output_type": "execute_result"
    }
   ],
   "source": [
    "vectorizer = TfidfVectorizer()\n",
    "tfidf_matrix = vectorizer.fit_transform([processed])\n",
    "tfidf_matrix.toarray()"
   ]
  },
  {
   "cell_type": "code",
   "execution_count": 22,
   "id": "bc7576e2",
   "metadata": {},
   "outputs": [],
   "source": [
    "import nltk\n",
    "from nltk.corpus import stopwords\n",
    "from nltk.tokenize import word_tokenize\n",
    "from nltk.stem import PorterStemmer, WordNetLemmatizer\n",
    "from nltk.tag import pos_tag\n",
    "from sklearn.feature_extraction.text import TfidfVectorizer\n",
    "import pandas as pd"
   ]
  },
  {
   "cell_type": "code",
   "execution_count": 23,
   "id": "858c634f",
   "metadata": {},
   "outputs": [
    {
     "data": {
      "text/plain": [
       "['this',\n",
       " 'is',\n",
       " 'something',\n",
       " 'fries',\n",
       " 'caring',\n",
       " 'playing',\n",
       " 'processing',\n",
       " '%',\n",
       " 'we',\n",
       " 'are',\n",
       " 'not',\n",
       " 'same',\n",
       " '.']"
      ]
     },
     "execution_count": 23,
     "metadata": {},
     "output_type": "execute_result"
    }
   ],
   "source": [
    "document = \"this is something fries caring playing processing % we are not same .\"\n",
    "tokens = word_tokenize(document)\n",
    "tokens"
   ]
  },
  {
   "cell_type": "code",
   "execution_count": 25,
   "id": "58f9e34b",
   "metadata": {},
   "outputs": [
    {
     "data": {
      "text/plain": [
       "['something', 'fries', 'caring', 'playing', 'processing']"
      ]
     },
     "execution_count": 25,
     "metadata": {},
     "output_type": "execute_result"
    }
   ],
   "source": [
    "import string\n",
    "stop_words = set(stopwords.words('english'))\n",
    "filtered = [token for token in tokens if token.lower() not in stop_words and token.lower() not in string.punctuation]\n",
    "filtered"
   ]
  },
  {
   "cell_type": "code",
   "execution_count": 27,
   "id": "c3f5decb",
   "metadata": {},
   "outputs": [
    {
     "data": {
      "text/plain": [
       "['sampl', 'document', 'comput', 'care', 'play', 'card']"
      ]
     },
     "execution_count": 27,
     "metadata": {},
     "output_type": "execute_result"
    }
   ],
   "source": [
    "stemeer = PorterStemmer()\n",
    "stemmed = [stemmer.stem(token) for token in filtered_tokens]\n",
    "stemmed"
   ]
  },
  {
   "cell_type": "code",
   "execution_count": 30,
   "id": "448bcc59",
   "metadata": {},
   "outputs": [
    {
     "data": {
      "text/plain": [
       "['sample', 'document', 'computer', 'caring', 'playing', 'card']"
      ]
     },
     "execution_count": 30,
     "metadata": {},
     "output_type": "execute_result"
    }
   ],
   "source": [
    "lemmatizer = WordNetLemmatizer()\n",
    "lemmed = [lemmatizer.lemmatize(token) for token in filtered_tokens]\n",
    "lemmed"
   ]
  },
  {
   "cell_type": "code",
   "execution_count": 32,
   "id": "437a3a33",
   "metadata": {},
   "outputs": [
    {
     "data": {
      "text/plain": [
       "'sample document computer caring playing cards'"
      ]
     },
     "execution_count": 32,
     "metadata": {},
     "output_type": "execute_result"
    }
   ],
   "source": [
    "processed = ' '.join(filtered_tokens)\n",
    "processed"
   ]
  },
  {
   "cell_type": "code",
   "execution_count": 33,
   "id": "750daf0c",
   "metadata": {},
   "outputs": [],
   "source": [
    "vectorizer = TfidfVectorizer()\n",
    "tfif"
   ]
  },
  {
   "cell_type": "code",
   "execution_count": null,
   "id": "36b500de",
   "metadata": {},
   "outputs": [],
   "source": []
  }
 ],
 "metadata": {
  "kernelspec": {
   "display_name": "Python 3 (ipykernel)",
   "language": "python",
   "name": "python3"
  },
  "language_info": {
   "codemirror_mode": {
    "name": "ipython",
    "version": 3
   },
   "file_extension": ".py",
   "mimetype": "text/x-python",
   "name": "python",
   "nbconvert_exporter": "python",
   "pygments_lexer": "ipython3",
   "version": "3.9.13"
  }
 },
 "nbformat": 4,
 "nbformat_minor": 5
}
