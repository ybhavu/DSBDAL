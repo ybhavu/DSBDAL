{
 "cells": [
  {
   "cell_type": "code",
   "execution_count": 2,
   "id": "58c667ac",
   "metadata": {},
   "outputs": [],
   "source": [
    "import pandas as pd\n",
    "import numpy as np"
   ]
  },
  {
   "cell_type": "code",
   "execution_count": 3,
   "id": "9477b15f",
   "metadata": {},
   "outputs": [],
   "source": [
    "df = pd.read_csv('loan_data_set.csv')"
   ]
  },
  {
   "cell_type": "code",
   "execution_count": 4,
   "id": "af83c654",
   "metadata": {},
   "outputs": [
    {
     "data": {
      "text/html": [
       "<div>\n",
       "<style scoped>\n",
       "    .dataframe tbody tr th:only-of-type {\n",
       "        vertical-align: middle;\n",
       "    }\n",
       "\n",
       "    .dataframe tbody tr th {\n",
       "        vertical-align: top;\n",
       "    }\n",
       "\n",
       "    .dataframe thead th {\n",
       "        text-align: right;\n",
       "    }\n",
       "</style>\n",
       "<table border=\"1\" class=\"dataframe\">\n",
       "  <thead>\n",
       "    <tr style=\"text-align: right;\">\n",
       "      <th></th>\n",
       "      <th>Loan_ID</th>\n",
       "      <th>Gender</th>\n",
       "      <th>Married</th>\n",
       "      <th>Dependents</th>\n",
       "      <th>Education</th>\n",
       "      <th>Self_Employed</th>\n",
       "      <th>ApplicantIncome</th>\n",
       "      <th>CoapplicantIncome</th>\n",
       "      <th>LoanAmount</th>\n",
       "      <th>Loan_Amount_Term</th>\n",
       "      <th>Credit_History</th>\n",
       "      <th>Property_Area</th>\n",
       "      <th>Loan_Status</th>\n",
       "    </tr>\n",
       "  </thead>\n",
       "  <tbody>\n",
       "    <tr>\n",
       "      <th>0</th>\n",
       "      <td>LP001002</td>\n",
       "      <td>Male</td>\n",
       "      <td>No</td>\n",
       "      <td>0</td>\n",
       "      <td>Graduate</td>\n",
       "      <td>No</td>\n",
       "      <td>5849</td>\n",
       "      <td>0.0</td>\n",
       "      <td>NaN</td>\n",
       "      <td>360.0</td>\n",
       "      <td>1.0</td>\n",
       "      <td>Urban</td>\n",
       "      <td>Y</td>\n",
       "    </tr>\n",
       "    <tr>\n",
       "      <th>1</th>\n",
       "      <td>LP001003</td>\n",
       "      <td>Male</td>\n",
       "      <td>Yes</td>\n",
       "      <td>1</td>\n",
       "      <td>Graduate</td>\n",
       "      <td>No</td>\n",
       "      <td>4583</td>\n",
       "      <td>1508.0</td>\n",
       "      <td>128.0</td>\n",
       "      <td>360.0</td>\n",
       "      <td>1.0</td>\n",
       "      <td>Rural</td>\n",
       "      <td>N</td>\n",
       "    </tr>\n",
       "    <tr>\n",
       "      <th>2</th>\n",
       "      <td>LP001005</td>\n",
       "      <td>Male</td>\n",
       "      <td>Yes</td>\n",
       "      <td>0</td>\n",
       "      <td>Graduate</td>\n",
       "      <td>Yes</td>\n",
       "      <td>3000</td>\n",
       "      <td>0.0</td>\n",
       "      <td>66.0</td>\n",
       "      <td>360.0</td>\n",
       "      <td>1.0</td>\n",
       "      <td>Urban</td>\n",
       "      <td>Y</td>\n",
       "    </tr>\n",
       "    <tr>\n",
       "      <th>3</th>\n",
       "      <td>LP001006</td>\n",
       "      <td>Male</td>\n",
       "      <td>Yes</td>\n",
       "      <td>0</td>\n",
       "      <td>Not Graduate</td>\n",
       "      <td>No</td>\n",
       "      <td>2583</td>\n",
       "      <td>2358.0</td>\n",
       "      <td>120.0</td>\n",
       "      <td>360.0</td>\n",
       "      <td>1.0</td>\n",
       "      <td>Urban</td>\n",
       "      <td>Y</td>\n",
       "    </tr>\n",
       "    <tr>\n",
       "      <th>4</th>\n",
       "      <td>LP001008</td>\n",
       "      <td>Male</td>\n",
       "      <td>No</td>\n",
       "      <td>0</td>\n",
       "      <td>Graduate</td>\n",
       "      <td>No</td>\n",
       "      <td>6000</td>\n",
       "      <td>0.0</td>\n",
       "      <td>141.0</td>\n",
       "      <td>360.0</td>\n",
       "      <td>1.0</td>\n",
       "      <td>Urban</td>\n",
       "      <td>Y</td>\n",
       "    </tr>\n",
       "  </tbody>\n",
       "</table>\n",
       "</div>"
      ],
      "text/plain": [
       "    Loan_ID Gender Married Dependents     Education Self_Employed  \\\n",
       "0  LP001002   Male      No          0      Graduate            No   \n",
       "1  LP001003   Male     Yes          1      Graduate            No   \n",
       "2  LP001005   Male     Yes          0      Graduate           Yes   \n",
       "3  LP001006   Male     Yes          0  Not Graduate            No   \n",
       "4  LP001008   Male      No          0      Graduate            No   \n",
       "\n",
       "   ApplicantIncome  CoapplicantIncome  LoanAmount  Loan_Amount_Term  \\\n",
       "0             5849                0.0         NaN             360.0   \n",
       "1             4583             1508.0       128.0             360.0   \n",
       "2             3000                0.0        66.0             360.0   \n",
       "3             2583             2358.0       120.0             360.0   \n",
       "4             6000                0.0       141.0             360.0   \n",
       "\n",
       "   Credit_History Property_Area Loan_Status  \n",
       "0             1.0         Urban           Y  \n",
       "1             1.0         Rural           N  \n",
       "2             1.0         Urban           Y  \n",
       "3             1.0         Urban           Y  \n",
       "4             1.0         Urban           Y  "
      ]
     },
     "execution_count": 4,
     "metadata": {},
     "output_type": "execute_result"
    }
   ],
   "source": [
    "df.head()"
   ]
  },
  {
   "cell_type": "code",
   "execution_count": 5,
   "id": "175c127b",
   "metadata": {},
   "outputs": [],
   "source": [
    "# 1. Summary statistics grouped by a categorical variable\n",
    "categorical_var = 'Gender'  # Replace with the name of your categorical variable\n",
    "numeric_var = 'ApplicantIncome'  # Replace with the name of your numeric variable\n",
    "\n",
    "grouped_stats = df.groupby(categorical_var)[numeric_var].describe()\n"
   ]
  },
  {
   "cell_type": "code",
   "execution_count": 6,
   "id": "a774dd1c",
   "metadata": {},
   "outputs": [],
   "source": [
    "# Create a list with numeric values for each response to the categorical variable\n",
    "category_values = grouped_stats.index.tolist()\n",
    "numeric_values = grouped_stats['mean'].tolist()\n",
    "summary_statistics = list(zip(category_values, numeric_values))"
   ]
  },
  {
   "cell_type": "code",
   "execution_count": 7,
   "id": "7c40f692",
   "metadata": {},
   "outputs": [
    {
     "name": "stdout",
     "output_type": "stream",
     "text": [
      "Female: 4643.473214285715\n",
      "Male: 5446.460122699386\n"
     ]
    }
   ],
   "source": [
    "# Print the summary statistics\n",
    "for category, value in summary_statistics:\n",
    "    print(f\"{category}: {value}\")"
   ]
  },
  {
   "cell_type": "code",
   "execution_count": 18,
   "id": "902744e6",
   "metadata": {},
   "outputs": [],
   "source": [
    "# 2. Basic statistical details for specific species\n",
    "df2 = pd.read_csv('IRIS.csv')\n",
    "species_stats = df2.groupby('species').describe()\n"
   ]
  },
  {
   "cell_type": "code",
   "execution_count": 19,
   "id": "5d3b689f",
   "metadata": {},
   "outputs": [
    {
     "name": "stdout",
     "output_type": "stream",
     "text": [
      "                sepal_length                                              \\\n",
      "                       count   mean       std  min    25%  50%  75%  max   \n",
      "species                                                                    \n",
      "Iris-setosa             50.0  5.006  0.352490  4.3  4.800  5.0  5.2  5.8   \n",
      "Iris-versicolor         50.0  5.936  0.516171  4.9  5.600  5.9  6.3  7.0   \n",
      "Iris-virginica          50.0  6.588  0.635880  4.9  6.225  6.5  6.9  7.9   \n",
      "\n",
      "                sepal_width         ... petal_length      petal_width         \\\n",
      "                      count   mean  ...          75%  max       count   mean   \n",
      "species                             ...                                        \n",
      "Iris-setosa            50.0  3.418  ...        1.575  1.9        50.0  0.244   \n",
      "Iris-versicolor        50.0  2.770  ...        4.600  5.1        50.0  1.326   \n",
      "Iris-virginica         50.0  2.974  ...        5.875  6.9        50.0  2.026   \n",
      "\n",
      "                                                    \n",
      "                      std  min  25%  50%  75%  max  \n",
      "species                                             \n",
      "Iris-setosa      0.107210  0.1  0.2  0.2  0.3  0.6  \n",
      "Iris-versicolor  0.197753  1.0  1.2  1.3  1.5  1.8  \n",
      "Iris-virginica   0.274650  1.4  1.8  2.0  2.3  2.5  \n",
      "\n",
      "[3 rows x 32 columns]\n"
     ]
    }
   ],
   "source": [
    "print(species_stats)"
   ]
  },
  {
   "cell_type": "code",
   "execution_count": 15,
   "id": "8ab21e74",
   "metadata": {},
   "outputs": [
    {
     "name": "stdout",
     "output_type": "stream",
     "text": [
      "                 min_sepal_length  max_sepal_length  mean_sepal_length  \\\n",
      "species                                                                  \n",
      "Iris-setosa                   4.3               5.8              5.006   \n",
      "Iris-versicolor               4.9               7.0              5.936   \n",
      "Iris-virginica                4.9               7.9              6.588   \n",
      "\n",
      "                 median_sepal_length  std_sepal_length  min_sepal_width  \\\n",
      "species                                                                   \n",
      "Iris-setosa                      5.0          0.352490              2.3   \n",
      "Iris-versicolor                  5.9          0.516171              2.0   \n",
      "Iris-virginica                   6.5          0.635880              2.2   \n",
      "\n",
      "                 max_sepal_width  mean_sepal_width  median_sepal_width  \\\n",
      "species                                                                  \n",
      "Iris-setosa                  4.4             3.418                 3.4   \n",
      "Iris-versicolor              3.4             2.770                 2.8   \n",
      "Iris-virginica               3.8             2.974                 3.0   \n",
      "\n",
      "                 std_sepal_width  min_petal_length  max_petal_length  \\\n",
      "species                                                                \n",
      "Iris-setosa             0.381024               1.0               1.9   \n",
      "Iris-versicolor         0.313798               3.0               5.1   \n",
      "Iris-virginica          0.322497               4.5               6.9   \n",
      "\n",
      "                 mean_petal_length  median_petal_length  std_petal_length  \\\n",
      "species                                                                     \n",
      "Iris-setosa                  1.464                 1.50          0.173511   \n",
      "Iris-versicolor              4.260                 4.35          0.469911   \n",
      "Iris-virginica               5.552                 5.55          0.551895   \n",
      "\n",
      "                 min_petal_width  max_petal_width  mean_petal_width  \\\n",
      "species                                                               \n",
      "Iris-setosa                  0.1              0.6             0.244   \n",
      "Iris-versicolor              1.0              1.8             1.326   \n",
      "Iris-virginica               1.4              2.5             2.026   \n",
      "\n",
      "                 median_petal_width  std_petal_width  \n",
      "species                                               \n",
      "Iris-setosa                     0.2         0.107210  \n",
      "Iris-versicolor                 1.3         0.197753  \n",
      "Iris-virginica                  2.0         0.274650  \n"
     ]
    }
   ],
   "source": [
    "\n",
    "\n",
    "# Filter the dataset for the specific species\n",
    "species_filter = df2['species'].isin(['Iris-setosa', 'Iris-versicolor', 'Iris-virginica'])\n",
    "filtered_df = df2[species_filter]\n",
    "\n",
    "# Calculate basic statistical details for each species\n",
    "species_stats = filtered_df.groupby('species').agg(\n",
    "    min_sepal_length=('sepal_length', np.min),\n",
    "    max_sepal_length=('sepal_length', np.max),\n",
    "    mean_sepal_length=('sepal_length', np.mean),\n",
    "    median_sepal_length=('sepal_length', np.median),\n",
    "    std_sepal_length=('sepal_length', np.std),\n",
    "    min_sepal_width=('sepal_width', np.min),\n",
    "    max_sepal_width=('sepal_width', np.max),\n",
    "    mean_sepal_width=('sepal_width', np.mean),\n",
    "    median_sepal_width=('sepal_width', np.median),\n",
    "    std_sepal_width=('sepal_width', np.std),\n",
    "    min_petal_length=('petal_length', np.min),\n",
    "    max_petal_length=('petal_length', np.max),\n",
    "    mean_petal_length=('petal_length', np.mean),\n",
    "    median_petal_length=('petal_length', np.median),\n",
    "    std_petal_length=('petal_length', np.std),\n",
    "    min_petal_width=('petal_width', np.min),\n",
    "    max_petal_width=('petal_width', np.max),\n",
    "    mean_petal_width=('petal_width', np.mean),\n",
    "    median_petal_width=('petal_width', np.median),\n",
    "    std_petal_width=('petal_width', np.std)\n",
    ")\n",
    "\n",
    "# Print the basic statistical details\n",
    "print(species_stats)\n"
   ]
  },
  {
   "cell_type": "code",
   "execution_count": 17,
   "id": "74b99000",
   "metadata": {},
   "outputs": [
    {
     "name": "stdout",
     "output_type": "stream",
     "text": [
      "Percentiles of Iris-setosa:\n",
      "[4.8 5.  5.2]\n",
      "\n",
      "Percentiles of Iris-versicolor:\n",
      "[5.6 5.9 6.3]\n",
      "\n",
      "Percentiles of Iris-virginica:\n",
      "[6.225 6.5   6.9  ]\n"
     ]
    }
   ],
   "source": [
    "setosa_data = df2[df2['species'] == 'Iris-setosa']\n",
    "versicolor_data = df2[df2['species'] == 'Iris-versicolor']\n",
    "virginica_data = df2[df2['species'] == 'Iris-virginica']\n",
    "\n",
    "# Calculate percentiles for each species\n",
    "setosa_percentiles = np.percentile(setosa_data['sepal_length'], [25, 50, 75])\n",
    "versicolor_percentiles = np.percentile(versicolor_data['sepal_length'], [25, 50, 75])\n",
    "virginica_percentiles = np.percentile(virginica_data['sepal_length'], [25, 50, 75])\n",
    "\n",
    "# Display the results\n",
    "print(\"Percentiles of Iris-setosa:\")\n",
    "print(setosa_percentiles)\n",
    "print()\n",
    "\n",
    "print(\"Percentiles of Iris-versicolor:\")\n",
    "print(versicolor_percentiles)\n",
    "print()\n",
    "\n",
    "print(\"Percentiles of Iris-virginica:\")\n",
    "print(virginica_percentiles)"
   ]
  },
  {
   "cell_type": "code",
   "execution_count": null,
   "id": "e7cdaf86",
   "metadata": {},
   "outputs": [],
   "source": []
  }
 ],
 "metadata": {
  "kernelspec": {
   "display_name": "Python 3 (ipykernel)",
   "language": "python",
   "name": "python3"
  },
  "language_info": {
   "codemirror_mode": {
    "name": "ipython",
    "version": 3
   },
   "file_extension": ".py",
   "mimetype": "text/x-python",
   "name": "python",
   "nbconvert_exporter": "python",
   "pygments_lexer": "ipython3",
   "version": "3.9.13"
  }
 },
 "nbformat": 4,
 "nbformat_minor": 5
}
